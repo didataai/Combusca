{
 "cells": [
  {
   "cell_type": "code",
   "execution_count": 1,
   "id": "ef08ee60",
   "metadata": {},
   "outputs": [
    {
     "data": {
      "text/plain": [
       "'\\n#https://www.quora.com/How-did-Takashi-Kotegawa-turn-13-000-into-around-150-million-in-8-years-of-day-trading\\n\\n1 - he uses indicators such as Bollinger Bands, \\n2 - Relative Strength Index (RSI), \\n3 - volume ratio \\n4 - 25-day moving average \\n5 - buying at least 20% of the stock below the 25-day moving average \\n6 - has a 60% win rate.\\n'"
      ]
     },
     "execution_count": 1,
     "metadata": {},
     "output_type": "execute_result"
    }
   ],
   "source": [
    "\"\"\"\n",
    "#https://www.quora.com/How-did-Takashi-Kotegawa-turn-13-000-into-around-150-million-in-8-years-of-day-trading\n",
    "\n",
    "1 - he uses indicators such as Bollinger Bands, \n",
    "2 - Relative Strength Index (RSI), \n",
    "3 - volume ratio \n",
    "4 - 25-day moving average \n",
    "5 - buying at least 20% of the stock below the 25-day moving average \n",
    "6 - has a 60% win rate.\n",
    "\"\"\"\n",
    "\n",
    "# Sell\n",
    "# Price > bup > rsi > 10% sma\n",
    "\n",
    "# buy\n",
    "# Price < bdown < rsi < 10% sma"
   ]
  },
  {
   "cell_type": "code",
   "execution_count": null,
   "id": "e71693a6",
   "metadata": {},
   "outputs": [],
   "source": []
  }
 ],
 "metadata": {
  "kernelspec": {
   "display_name": "Python 3 (ipykernel)",
   "language": "python",
   "name": "python3"
  },
  "language_info": {
   "codemirror_mode": {
    "name": "ipython",
    "version": 3
   },
   "file_extension": ".py",
   "mimetype": "text/x-python",
   "name": "python",
   "nbconvert_exporter": "python",
   "pygments_lexer": "ipython3",
   "version": "3.8.3"
  }
 },
 "nbformat": 4,
 "nbformat_minor": 5
}
